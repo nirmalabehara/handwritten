{
 "cells": [
  {
   "cell_type": "code",
   "execution_count": 1,
   "id": "3e3826a9-9969-4943-88a9-d8cef7a34d60",
   "metadata": {},
   "outputs": [],
   "source": [
    "from scipy.io import loadmat\n",
    "import numpy as np\n",
    "\n",
    "# Load the dataset\n",
    "data = loadmat('matlab/emnist-letters.mat')\n",
    "\n",
    "# Extract train and test data\n",
    "x_train = data['dataset']['train'][0][0]['images'][0][0]\n",
    "y_train = data['dataset']['train'][0][0]['labels'][0][0]\n",
    "x_test = data['dataset']['test'][0][0]['images'][0][0]\n",
    "y_test = data['dataset']['test'][0][0]['labels'][0][0]\n",
    "\n",
    "# Reshape & Normalize\n",
    "x_train = x_train.reshape(-1, 28, 28, 1).astype('float32') / 255.0\n",
    "x_test = x_test.reshape(-1, 28, 28, 1).astype('float32') / 255.0\n",
    "y_train = y_train.flatten() - 1\n",
    "y_test = y_test.flatten() - 1\n"
   ]
  },
  {
   "cell_type": "code",
   "execution_count": 2,
   "id": "7222d285-4792-4439-a3f8-f3d04aad9778",
   "metadata": {},
   "outputs": [
    {
     "name": "stderr",
     "output_type": "stream",
     "text": [
      "c:\\Users\\nirma\\AppData\\Local\\Programs\\Python\\Python312\\Lib\\site-packages\\keras\\src\\layers\\convolutional\\base_conv.py:107: UserWarning: Do not pass an `input_shape`/`input_dim` argument to a layer. When using Sequential models, prefer using an `Input(shape)` object as the first layer in the model instead.\n",
      "  super().__init__(activity_regularizer=activity_regularizer, **kwargs)\n"
     ]
    },
    {
     "name": "stdout",
     "output_type": "stream",
     "text": [
      "Epoch 1/5\n",
      "\u001b[1m3900/3900\u001b[0m \u001b[32m━━━━━━━━━━━━━━━━━━━━\u001b[0m\u001b[37m\u001b[0m \u001b[1m141s\u001b[0m 33ms/step - accuracy: 0.7732 - loss: 0.7623 - val_accuracy: 0.9048 - val_loss: 0.3022\n",
      "Epoch 2/5\n",
      "\u001b[1m3900/3900\u001b[0m \u001b[32m━━━━━━━━━━━━━━━━━━━━\u001b[0m\u001b[37m\u001b[0m \u001b[1m87s\u001b[0m 22ms/step - accuracy: 0.9148 - loss: 0.2591 - val_accuracy: 0.9163 - val_loss: 0.2663\n",
      "Epoch 3/5\n",
      "\u001b[1m3900/3900\u001b[0m \u001b[32m━━━━━━━━━━━━━━━━━━━━\u001b[0m\u001b[37m\u001b[0m \u001b[1m65s\u001b[0m 17ms/step - accuracy: 0.9307 - loss: 0.2017 - val_accuracy: 0.9129 - val_loss: 0.2600\n",
      "Epoch 4/5\n",
      "\u001b[1m3900/3900\u001b[0m \u001b[32m━━━━━━━━━━━━━━━━━━━━\u001b[0m\u001b[37m\u001b[0m \u001b[1m57s\u001b[0m 15ms/step - accuracy: 0.9417 - loss: 0.1676 - val_accuracy: 0.9235 - val_loss: 0.2392\n",
      "Epoch 5/5\n",
      "\u001b[1m3900/3900\u001b[0m \u001b[32m━━━━━━━━━━━━━━━━━━━━\u001b[0m\u001b[37m\u001b[0m \u001b[1m55s\u001b[0m 14ms/step - accuracy: 0.9511 - loss: 0.1380 - val_accuracy: 0.9206 - val_loss: 0.2596\n"
     ]
    },
    {
     "name": "stderr",
     "output_type": "stream",
     "text": [
      "WARNING:absl:You are saving your model as an HDF5 file via `model.save()` or `keras.saving.save_model(model)`. This file format is considered legacy. We recommend using instead the native Keras format, e.g. `model.save('my_model.keras')` or `keras.saving.save_model(model, 'my_model.keras')`. \n"
     ]
    }
   ],
   "source": [
    "from tensorflow.keras.models import Sequential\n",
    "from tensorflow.keras.layers import Conv2D, MaxPooling2D, Flatten, Dense\n",
    "\n",
    "model = Sequential([\n",
    "    Conv2D(32, (3,3), activation='relu', input_shape=(28,28,1)),\n",
    "    MaxPooling2D((2,2)),\n",
    "    Flatten(),\n",
    "    Dense(128, activation='relu'),\n",
    "    Dense(26, activation='softmax')  # 26 classes for letters A-Z\n",
    "])\n",
    "\n",
    "model.compile(optimizer='adam', loss='sparse_categorical_crossentropy', metrics=['accuracy'])\n",
    "model.fit(x_train, y_train, epochs=5, validation_data=(x_test, y_test))\n",
    "model.save('emnist_model.h5')\n"
   ]
  }
 ],
 "metadata": {
  "kernelspec": {
   "display_name": "Python 3 (ipykernel)",
   "language": "python",
   "name": "python3"
  },
  "language_info": {
   "codemirror_mode": {
    "name": "ipython",
    "version": 3
   },
   "file_extension": ".py",
   "mimetype": "text/x-python",
   "name": "python",
   "nbconvert_exporter": "python",
   "pygments_lexer": "ipython3",
   "version": "3.12.5"
  }
 },
 "nbformat": 4,
 "nbformat_minor": 5
}
